{
 "cells": [
  {
   "cell_type": "code",
   "execution_count": 1,
   "metadata": {},
   "outputs": [],
   "source": [
    "import numpy as np \n",
    "import pandas as pd\n"
   ]
  },
  {
   "cell_type": "code",
   "execution_count": 15,
   "metadata": {},
   "outputs": [],
   "source": [
    "np.random.seed(42)  # Per rendere i risultati riproducibili\n",
    "n_righe = 100\n",
    "data = {\n",
    "    \"Nome\": [f\"Persona_{i}\" for i in range(n_righe)],\n",
    "    \"Età\": np.random.randint(0, 100, n_righe),\n",
    "    \"Sesso\": np.random.choice([\"Maschio\", \"Femmina\"], n_righe),\n",
    "    \"Stipendio\": np.random.uniform(20000, 80000, n_righe),\n",
    "    \"Dipartimento\": np.random.choice([\"HR\", \"IT\", \"Vendite\", \"Marketing\"], n_righe)\n",
    "}\n"
   ]
  },
  {
   "cell_type": "code",
   "execution_count": 16,
   "metadata": {},
   "outputs": [],
   "source": [
    "df = pd.DataFrame(data)"
   ]
  },
  {
   "cell_type": "code",
   "execution_count": 17,
   "metadata": {},
   "outputs": [],
   "source": [
    "df.loc[5] = df.loc[10]  # Duplicato\n",
    "df.loc[15, \"Stipendio\"] = np.nan  # Valore mancante"
   ]
  },
  {
   "cell_type": "code",
   "execution_count": 20,
   "metadata": {},
   "outputs": [
    {
     "name": "stdout",
     "output_type": "stream",
     "text": [
      "Nome            Persona_15\n",
      "Età                     52\n",
      "Sesso              Maschio\n",
      "Stipendio              NaN\n",
      "Dipartimento     Marketing\n",
      "Name: 15, dtype: object\n"
     ]
    }
   ],
   "source": [
    "print(df.loc[15])"
   ]
  },
  {
   "cell_type": "code",
   "execution_count": 5,
   "metadata": {},
   "outputs": [
    {
     "name": "stdout",
     "output_type": "stream",
     "text": [
      "Prime cinque righe:\n",
      "        Nome  Età    Sesso     Stipendio Dipartimento\n",
      "0  Persona_0   51  Femmina  68487.222774           HR\n",
      "1  Persona_1   92  Maschio  58004.225391    Marketing\n",
      "2  Persona_2   14  Femmina  72287.635411           HR\n",
      "3  Persona_3   71  Femmina  68220.324614    Marketing\n",
      "4  Persona_4   60  Femmina  31194.203533           HR\n",
      "\n",
      "Ultime cinque righe:\n",
      "          Nome  Età    Sesso     Stipendio Dipartimento\n",
      "95  Persona_95   84  Maschio  20303.695031      Vendite\n",
      "96  Persona_96   79  Femmina  29648.483085           IT\n",
      "97  Persona_97   81  Femmina  52924.027362      Vendite\n",
      "98  Persona_98   52  Femmina  61513.711862           IT\n",
      "99  Persona_99   23  Femmina  59117.675570      Vendite\n"
     ]
    }
   ],
   "source": [
    "print(\"Prime cinque righe:\")\n",
    "print(df.head())\n",
    "print(\"\\nUltime cinque righe:\")\n",
    "print(df.tail())"
   ]
  },
  {
   "cell_type": "code",
   "execution_count": 6,
   "metadata": {},
   "outputs": [
    {
     "name": "stdout",
     "output_type": "stream",
     "text": [
      "\n",
      "Tipi di dati delle colonne:\n",
      "Nome             object\n",
      "Età               int64\n",
      "Sesso            object\n",
      "Stipendio       float64\n",
      "Dipartimento     object\n",
      "dtype: object\n"
     ]
    }
   ],
   "source": [
    "print(\"\\nTipi di dati delle colonne:\")\n",
    "print(df.dtypes)"
   ]
  },
  {
   "cell_type": "code",
   "execution_count": 7,
   "metadata": {},
   "outputs": [
    {
     "name": "stdout",
     "output_type": "stream",
     "text": [
      "\n",
      "Statistiche descrittive:\n",
      "              Età     Stipendio\n",
      "count  100.000000     99.000000\n",
      "mean    51.210000  49526.739047\n",
      "std     29.486273  17576.750159\n",
      "min      1.000000  20303.695031\n",
      "25%     23.000000  34315.983040\n",
      "50%     53.500000  50725.583498\n",
      "75%     77.000000  63625.160824\n",
      "max     99.000000  79139.027247\n"
     ]
    }
   ],
   "source": [
    "print(\"\\nStatistiche descrittive:\")\n",
    "print(df.describe())"
   ]
  },
  {
   "cell_type": "code",
   "execution_count": 8,
   "metadata": {},
   "outputs": [
    {
     "name": "stdout",
     "output_type": "stream",
     "text": [
      "\n",
      "Numero di duplicati: 1\n"
     ]
    }
   ],
   "source": [
    "duplicati = df.duplicated().sum()\n",
    "print(f\"\\nNumero di duplicati: {duplicati}\")\n",
    "df = df.drop_duplicates()"
   ]
  },
  {
   "cell_type": "code",
   "execution_count": 10,
   "metadata": {},
   "outputs": [],
   "source": [
    "df[\"Stipendio\"] = df[\"Stipendio\"].fillna(df[\"Stipendio\"].median())\n"
   ]
  },
  {
   "cell_type": "code",
   "execution_count": 11,
   "metadata": {},
   "outputs": [],
   "source": [
    "def categorizza_eta(eta):\n",
    "    if eta <= 18:\n",
    "        return \"Giovane\"\n",
    "    elif 19 <= eta <= 65:\n",
    "        return \"Adulto\"\n",
    "    else:\n",
    "        return \"Senior\""
   ]
  },
  {
   "cell_type": "code",
   "execution_count": 12,
   "metadata": {},
   "outputs": [],
   "source": [
    "df[\"Categoria Età\"] = df[\"Età\"].apply(categorizza_eta)"
   ]
  },
  {
   "cell_type": "code",
   "execution_count": 13,
   "metadata": {},
   "outputs": [
    {
     "name": "stdout",
     "output_type": "stream",
     "text": [
      "\n",
      "DataFrame pulito salvato in 'dati_puliti.csv'.\n"
     ]
    }
   ],
   "source": [
    "df.to_csv(\"dati_puliti.csv\", index=False)\n",
    "print(\"\\nDataFrame pulito salvato in 'dati_puliti.csv'.\")"
   ]
  },
  {
   "cell_type": "code",
   "execution_count": 21,
   "metadata": {},
   "outputs": [],
   "source": [
    "serie4 = pd.Series([1.,-999.,2.,-999.,-1000.,3.])"
   ]
  },
  {
   "cell_type": "code",
   "execution_count": 22,
   "metadata": {},
   "outputs": [
    {
     "data": {
      "text/plain": [
       "0       1.0\n",
       "1    -999.0\n",
       "2       2.0\n",
       "3    -999.0\n",
       "4   -1000.0\n",
       "5       3.0\n",
       "dtype: float64"
      ]
     },
     "execution_count": 22,
     "metadata": {},
     "output_type": "execute_result"
    }
   ],
   "source": [
    "serie4"
   ]
  },
  {
   "cell_type": "code",
   "execution_count": 23,
   "metadata": {},
   "outputs": [],
   "source": [
    "df = pd.DataFrame({\"key1\":[\"a\", \"a\", None, \"b\", \"b\", \"a\", None],\n",
    "\"key2\" : pd.Series([1, 2, 1, 2, 1, None, 1], dtype=\"Int64\"),\n",
    "\"data1\" : np.random.standard_normal(7),\n",
    "\"data2\" : np.random.standard_normal(7)})"
   ]
  },
  {
   "cell_type": "code",
   "execution_count": 24,
   "metadata": {},
   "outputs": [
    {
     "data": {
      "text/html": [
       "<div>\n",
       "<style scoped>\n",
       "    .dataframe tbody tr th:only-of-type {\n",
       "        vertical-align: middle;\n",
       "    }\n",
       "\n",
       "    .dataframe tbody tr th {\n",
       "        vertical-align: top;\n",
       "    }\n",
       "\n",
       "    .dataframe thead th {\n",
       "        text-align: right;\n",
       "    }\n",
       "</style>\n",
       "<table border=\"1\" class=\"dataframe\">\n",
       "  <thead>\n",
       "    <tr style=\"text-align: right;\">\n",
       "      <th></th>\n",
       "      <th>key1</th>\n",
       "      <th>key2</th>\n",
       "      <th>data1</th>\n",
       "      <th>data2</th>\n",
       "    </tr>\n",
       "  </thead>\n",
       "  <tbody>\n",
       "    <tr>\n",
       "      <th>0</th>\n",
       "      <td>a</td>\n",
       "      <td>1</td>\n",
       "      <td>1.057424</td>\n",
       "      <td>-0.603904</td>\n",
       "    </tr>\n",
       "    <tr>\n",
       "      <th>1</th>\n",
       "      <td>a</td>\n",
       "      <td>2</td>\n",
       "      <td>0.051361</td>\n",
       "      <td>0.304449</td>\n",
       "    </tr>\n",
       "    <tr>\n",
       "      <th>2</th>\n",
       "      <td>None</td>\n",
       "      <td>1</td>\n",
       "      <td>0.872447</td>\n",
       "      <td>0.257207</td>\n",
       "    </tr>\n",
       "    <tr>\n",
       "      <th>3</th>\n",
       "      <td>b</td>\n",
       "      <td>2</td>\n",
       "      <td>1.066199</td>\n",
       "      <td>0.023932</td>\n",
       "    </tr>\n",
       "    <tr>\n",
       "      <th>4</th>\n",
       "      <td>b</td>\n",
       "      <td>1</td>\n",
       "      <td>-0.959008</td>\n",
       "      <td>0.871914</td>\n",
       "    </tr>\n",
       "    <tr>\n",
       "      <th>5</th>\n",
       "      <td>a</td>\n",
       "      <td>&lt;NA&gt;</td>\n",
       "      <td>1.382005</td>\n",
       "      <td>1.437356</td>\n",
       "    </tr>\n",
       "    <tr>\n",
       "      <th>6</th>\n",
       "      <td>None</td>\n",
       "      <td>1</td>\n",
       "      <td>0.905122</td>\n",
       "      <td>0.007306</td>\n",
       "    </tr>\n",
       "  </tbody>\n",
       "</table>\n",
       "</div>"
      ],
      "text/plain": [
       "   key1  key2     data1     data2\n",
       "0     a     1  1.057424 -0.603904\n",
       "1     a     2  0.051361  0.304449\n",
       "2  None     1  0.872447  0.257207\n",
       "3     b     2  1.066199  0.023932\n",
       "4     b     1 -0.959008  0.871914\n",
       "5     a  <NA>  1.382005  1.437356\n",
       "6  None     1  0.905122  0.007306"
      ]
     },
     "execution_count": 24,
     "metadata": {},
     "output_type": "execute_result"
    }
   ],
   "source": [
    "df"
   ]
  },
  {
   "cell_type": "code",
   "execution_count": 26,
   "metadata": {},
   "outputs": [
    {
     "name": "stdout",
     "output_type": "stream",
     "text": [
      "{'a': [0, 1, 5], 'b': [3, 4]}\n"
     ]
    }
   ],
   "source": [
    "grouped = df[\"data1\"].groupby(df[\"key1\"])\n",
    "grouped.mean()\n",
    "print(grouped.groups)"
   ]
  },
  {
   "cell_type": "code",
   "execution_count": 27,
   "metadata": {},
   "outputs": [
    {
     "name": "stdout",
     "output_type": "stream",
     "text": [
      "\n",
      "Dati per gruppo:\n",
      "Gruppo: a\n",
      "0    1.057424\n",
      "1    0.051361\n",
      "5    1.382005\n",
      "Name: data1, dtype: float64\n",
      "Gruppo: b\n",
      "3    1.066199\n",
      "4   -0.959008\n",
      "Name: data1, dtype: float64\n"
     ]
    }
   ],
   "source": [
    "print(\"\\nDati per gruppo:\")\n",
    "for key, group in grouped:\n",
    "    print(f\"Gruppo: {key}\")\n",
    "    print(group)"
   ]
  }
 ],
 "metadata": {
  "kernelspec": {
   "display_name": ".venv",
   "language": "python",
   "name": "python3"
  },
  "language_info": {
   "codemirror_mode": {
    "name": "ipython",
    "version": 3
   },
   "file_extension": ".py",
   "mimetype": "text/x-python",
   "name": "python",
   "nbconvert_exporter": "python",
   "pygments_lexer": "ipython3",
   "version": "3.12.3"
  }
 },
 "nbformat": 4,
 "nbformat_minor": 2
}
