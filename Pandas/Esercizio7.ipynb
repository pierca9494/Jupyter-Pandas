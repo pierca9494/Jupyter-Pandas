{
 "cells": [
  {
   "cell_type": "code",
   "execution_count": 2,
   "metadata": {},
   "outputs": [],
   "source": [
    "import numpy as np\n",
    "import pandas as pd"
   ]
  },
  {
   "cell_type": "code",
   "execution_count": 3,
   "metadata": {},
   "outputs": [
    {
     "name": "stdout",
     "output_type": "stream",
     "text": [
      "   Regione Prodotto  Vendite\n",
      "0     Nord        A      100\n",
      "1      Sud        A      150\n",
      "2     Nord        B      200\n",
      "3      Est        B      250\n",
      "4    Ovest        A      300\n",
      "5      Sud        B      350\n",
      "6      Est        A      400\n",
      "7     Nord        B      180\n",
      "8    Ovest        B      260\n",
      "9      Sud        A      220\n",
      "10    Nord        A      130\n",
      "11     Est        B      310\n",
      "12     Sud        A      170\n"
     ]
    }
   ],
   "source": [
    "data = {\n",
    "'Regione': [\n",
    "'Nord', 'Sud', 'Nord', 'Est', 'Ovest', 'Sud',\n",
    "'Est', 'Nord', 'Ovest', 'Sud', 'Nord', 'Est', 'Sud'\n",
    "],\n",
    "'Prodotto': [\n",
    "'A', 'A', 'B', 'B', 'A', 'B',\n",
    "'A', 'B', 'B', 'A', 'A', 'B', 'A'\n",
    "],\n",
    "'Vendite': [\n",
    "100, 150, 200, 250, 300, 350,\n",
    "400, 180, 260, 220, 130, 310, 170\n",
    "]\n",
    "}\n",
    "\n",
    "df = pd.DataFrame(data)\n",
    "print(df)"
   ]
  },
  {
   "cell_type": "code",
   "execution_count": 4,
   "metadata": {},
   "outputs": [
    {
     "name": "stdout",
     "output_type": "stream",
     "text": [
      "Prodotto    A    B\n",
      "Regione           \n",
      "Est       400  560\n",
      "Nord      230  380\n",
      "Ovest     300  260\n",
      "Sud       540  350\n"
     ]
    }
   ],
   "source": [
    "pivot_sum = df.pivot_table(values='Vendite', index='Regione', columns='Prodotto', aggfunc='sum', fill_value=0)\n",
    "print(pivot_sum)"
   ]
  },
  {
   "cell_type": "code",
   "execution_count": 5,
   "metadata": {},
   "outputs": [
    {
     "name": "stdout",
     "output_type": "stream",
     "text": [
      "          sum        mean       \n",
      "Prodotto    A    B      A      B\n",
      "Regione                         \n",
      "Est       400  560  400.0  280.0\n",
      "Nord      230  380  115.0  190.0\n",
      "Ovest     300  260  300.0  260.0\n",
      "Sud       540  350  180.0  350.0\n"
     ]
    }
   ],
   "source": [
    "pivot_multi = df.pivot_table(values='Vendite', index='Regione', columns='Prodotto', aggfunc=['sum', 'mean'], fill_value=0)\n",
    "print(pivot_multi)"
   ]
  },
  {
   "cell_type": "code",
   "execution_count": null,
   "metadata": {},
   "outputs": [
    {
     "name": "stdout",
     "output_type": "stream",
     "text": [
      "Prodotto   A   B\n",
      "Regione         \n",
      "Est        0  60\n",
      "Nord      30  20\n",
      "Ovest      0   0\n",
      "Sud       70   0\n"
     ]
    }
   ],
   "source": [
    "def range_vendite(x):\n",
    "    return x.max() - x.min()\n",
    "\n",
    "pivot_custom = df.pivot_table(values='Vendite', index='Regione', columns='Prodotto', aggfunc=range_vendite, fill_value=0)\n",
    "print(pivot_custom)"
   ]
  },
  {
   "cell_type": "code",
   "execution_count": 10,
   "metadata": {},
   "outputs": [
    {
     "data": {
      "text/html": [
       "<div>\n",
       "<style scoped>\n",
       "    .dataframe tbody tr th:only-of-type {\n",
       "        vertical-align: middle;\n",
       "    }\n",
       "\n",
       "    .dataframe tbody tr th {\n",
       "        vertical-align: top;\n",
       "    }\n",
       "\n",
       "    .dataframe thead th {\n",
       "        text-align: right;\n",
       "    }\n",
       "</style>\n",
       "<table border=\"1\" class=\"dataframe\">\n",
       "  <thead>\n",
       "    <tr style=\"text-align: right;\">\n",
       "      <th></th>\n",
       "      <th>Regione</th>\n",
       "      <th>Prodotto</th>\n",
       "      <th>Vendite</th>\n",
       "    </tr>\n",
       "  </thead>\n",
       "  <tbody>\n",
       "    <tr>\n",
       "      <th>0</th>\n",
       "      <td>Nord</td>\n",
       "      <td>A</td>\n",
       "      <td>100</td>\n",
       "    </tr>\n",
       "    <tr>\n",
       "      <th>1</th>\n",
       "      <td>Sud</td>\n",
       "      <td>A</td>\n",
       "      <td>150</td>\n",
       "    </tr>\n",
       "    <tr>\n",
       "      <th>2</th>\n",
       "      <td>Nord</td>\n",
       "      <td>B</td>\n",
       "      <td>200</td>\n",
       "    </tr>\n",
       "    <tr>\n",
       "      <th>3</th>\n",
       "      <td>Est</td>\n",
       "      <td>B</td>\n",
       "      <td>250</td>\n",
       "    </tr>\n",
       "    <tr>\n",
       "      <th>4</th>\n",
       "      <td>Ovest</td>\n",
       "      <td>A</td>\n",
       "      <td>300</td>\n",
       "    </tr>\n",
       "    <tr>\n",
       "      <th>5</th>\n",
       "      <td>Sud</td>\n",
       "      <td>B</td>\n",
       "      <td>350</td>\n",
       "    </tr>\n",
       "    <tr>\n",
       "      <th>6</th>\n",
       "      <td>Est</td>\n",
       "      <td>A</td>\n",
       "      <td>400</td>\n",
       "    </tr>\n",
       "    <tr>\n",
       "      <th>7</th>\n",
       "      <td>Ovest</td>\n",
       "      <td>B</td>\n",
       "      <td>450</td>\n",
       "    </tr>\n",
       "    <tr>\n",
       "      <th>8</th>\n",
       "      <td>Nord</td>\n",
       "      <td>A</td>\n",
       "      <td>120</td>\n",
       "    </tr>\n",
       "    <tr>\n",
       "      <th>9</th>\n",
       "      <td>Sud</td>\n",
       "      <td>A</td>\n",
       "      <td>180</td>\n",
       "    </tr>\n",
       "    <tr>\n",
       "      <th>10</th>\n",
       "      <td>Est</td>\n",
       "      <td>B</td>\n",
       "      <td>220</td>\n",
       "    </tr>\n",
       "    <tr>\n",
       "      <th>11</th>\n",
       "      <td>Ovest</td>\n",
       "      <td>B</td>\n",
       "      <td>270</td>\n",
       "    </tr>\n",
       "    <tr>\n",
       "      <th>12</th>\n",
       "      <td>Sud</td>\n",
       "      <td>A</td>\n",
       "      <td>160</td>\n",
       "    </tr>\n",
       "    <tr>\n",
       "      <th>13</th>\n",
       "      <td>Est</td>\n",
       "      <td>B</td>\n",
       "      <td>380</td>\n",
       "    </tr>\n",
       "    <tr>\n",
       "      <th>14</th>\n",
       "      <td>Ovest</td>\n",
       "      <td>B</td>\n",
       "      <td>460</td>\n",
       "    </tr>\n",
       "  </tbody>\n",
       "</table>\n",
       "</div>"
      ],
      "text/plain": [
       "   Regione Prodotto  Vendite\n",
       "0     Nord        A      100\n",
       "1      Sud        A      150\n",
       "2     Nord        B      200\n",
       "3      Est        B      250\n",
       "4    Ovest        A      300\n",
       "5      Sud        B      350\n",
       "6      Est        A      400\n",
       "7    Ovest        B      450\n",
       "8     Nord        A      120\n",
       "9      Sud        A      180\n",
       "10     Est        B      220\n",
       "11   Ovest        B      270\n",
       "12     Sud        A      160\n",
       "13     Est        B      380\n",
       "14   Ovest        B      460"
      ]
     },
     "execution_count": 10,
     "metadata": {},
     "output_type": "execute_result"
    }
   ],
   "source": [
    "data = {\n",
    "    'Regione': ['Nord', 'Sud', 'Nord', 'Est', 'Ovest', 'Sud', 'Est', 'Ovest', 'Nord', 'Sud', 'Est', 'Ovest', 'Sud', 'Est', 'Ovest'],\n",
    "    'Prodotto': ['A', 'A', 'B', 'B', 'A', 'B', 'A', 'B', 'A', 'A', 'B', 'B', 'A', 'B', 'B'],\n",
    "    'Vendite': [100, 150, 200, 250, 300, 350, 400, 450, 120, 180, 220, 270, 160, 380, 460]\n",
    "}\n",
    "\n",
    "df = pd.DataFrame(data)\n",
    "df\n",
    "\n"
   ]
  },
  {
   "cell_type": "code",
   "execution_count": 9,
   "metadata": {},
   "outputs": [
    {
     "name": "stdout",
     "output_type": "stream",
     "text": [
      "                mean              sum      \n",
      "Prodotto           A           B    A     B\n",
      "Regione                                    \n",
      "Est       400.000000  283.333333  400   850\n",
      "Nord      110.000000  200.000000  220   200\n",
      "Ovest     300.000000  393.333333  300  1180\n",
      "Sud       163.333333  350.000000  490   350\n"
     ]
    }
   ],
   "source": [
    "pivot_df = df.pivot_table(values='Vendite', index='Regione', columns='Prodotto', aggfunc=['mean', 'sum'])\n",
    "\n",
    "\n",
    "print(pivot_df)\n"
   ]
  },
  {
   "cell_type": "code",
   "execution_count": 13,
   "metadata": {},
   "outputs": [
    {
     "name": "stdout",
     "output_type": "stream",
     "text": [
      "Prodotto           A            B\n",
      "Regione                          \n",
      "Est         0.000000  4822.222222\n",
      "Nord      100.000000     0.000000\n",
      "Ovest       0.000000  7622.222222\n",
      "Sud       155.555556     0.000000\n"
     ]
    }
   ],
   "source": [
    "def calcolo_varianza(x):\n",
    "    return np.var(x)\n",
    "\n",
    "pivot_df = df.pivot_table(values='Vendite', index='Regione', columns='Prodotto', aggfunc=calcolo_varianza, fill_value=0)\n",
    "\n",
    "print(pivot_df)\n"
   ]
  }
 ],
 "metadata": {
  "kernelspec": {
   "display_name": ".venv",
   "language": "python",
   "name": "python3"
  },
  "language_info": {
   "codemirror_mode": {
    "name": "ipython",
    "version": 3
   },
   "file_extension": ".py",
   "mimetype": "text/x-python",
   "name": "python",
   "nbconvert_exporter": "python",
   "pygments_lexer": "ipython3",
   "version": "3.12.3"
  }
 },
 "nbformat": 4,
 "nbformat_minor": 2
}
