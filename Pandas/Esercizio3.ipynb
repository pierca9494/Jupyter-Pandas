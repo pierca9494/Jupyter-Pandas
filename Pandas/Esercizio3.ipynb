{
 "cells": [
  {
   "cell_type": "code",
   "execution_count": 1,
   "metadata": {},
   "outputs": [],
   "source": [
    "import numpy as np \n",
    "import pandas as pd\n"
   ]
  },
  {
   "cell_type": "code",
   "execution_count": 18,
   "metadata": {},
   "outputs": [],
   "source": [
    "data = {\n",
    "    \"Prodotto\": [\"Racchetta\", \"Scarpe\", \"Pallina\", \"Corde\", \"Integratori\", \"Maglie\"],\n",
    "    \"Quantità\": [10, 5, 8, 15, 7, 12],\n",
    "    \"Prezzo Unitario\": [200, 50, 10, 20, 50, 30],\n",
    "    \"Città\": [\"Roma\", \"Milano\", \"Torino\", \"Bari\", \"Napoli\", \"Bologna\"]\n",
    "}"
   ]
  },
  {
   "cell_type": "code",
   "execution_count": 19,
   "metadata": {},
   "outputs": [],
   "source": [
    "df = pd.DataFrame(data)\n"
   ]
  },
  {
   "cell_type": "code",
   "execution_count": 20,
   "metadata": {},
   "outputs": [
    {
     "data": {
      "text/html": [
       "<div>\n",
       "<style scoped>\n",
       "    .dataframe tbody tr th:only-of-type {\n",
       "        vertical-align: middle;\n",
       "    }\n",
       "\n",
       "    .dataframe tbody tr th {\n",
       "        vertical-align: top;\n",
       "    }\n",
       "\n",
       "    .dataframe thead th {\n",
       "        text-align: right;\n",
       "    }\n",
       "</style>\n",
       "<table border=\"1\" class=\"dataframe\">\n",
       "  <thead>\n",
       "    <tr style=\"text-align: right;\">\n",
       "      <th></th>\n",
       "      <th>Prodotto</th>\n",
       "      <th>Quantità</th>\n",
       "      <th>Prezzo Unitario</th>\n",
       "      <th>Città</th>\n",
       "      <th>Totale Vendite</th>\n",
       "    </tr>\n",
       "  </thead>\n",
       "  <tbody>\n",
       "    <tr>\n",
       "      <th>0</th>\n",
       "      <td>Racchetta</td>\n",
       "      <td>10</td>\n",
       "      <td>200</td>\n",
       "      <td>Roma</td>\n",
       "      <td>2000</td>\n",
       "    </tr>\n",
       "    <tr>\n",
       "      <th>1</th>\n",
       "      <td>Scarpe</td>\n",
       "      <td>5</td>\n",
       "      <td>50</td>\n",
       "      <td>Milano</td>\n",
       "      <td>250</td>\n",
       "    </tr>\n",
       "    <tr>\n",
       "      <th>2</th>\n",
       "      <td>Pallina</td>\n",
       "      <td>8</td>\n",
       "      <td>10</td>\n",
       "      <td>Torino</td>\n",
       "      <td>80</td>\n",
       "    </tr>\n",
       "    <tr>\n",
       "      <th>3</th>\n",
       "      <td>Corde</td>\n",
       "      <td>15</td>\n",
       "      <td>20</td>\n",
       "      <td>Bari</td>\n",
       "      <td>300</td>\n",
       "    </tr>\n",
       "    <tr>\n",
       "      <th>4</th>\n",
       "      <td>Integratori</td>\n",
       "      <td>7</td>\n",
       "      <td>50</td>\n",
       "      <td>Napoli</td>\n",
       "      <td>350</td>\n",
       "    </tr>\n",
       "    <tr>\n",
       "      <th>5</th>\n",
       "      <td>Maglie</td>\n",
       "      <td>12</td>\n",
       "      <td>30</td>\n",
       "      <td>Bologna</td>\n",
       "      <td>360</td>\n",
       "    </tr>\n",
       "  </tbody>\n",
       "</table>\n",
       "</div>"
      ],
      "text/plain": [
       "      Prodotto  Quantità  Prezzo Unitario    Città  Totale Vendite\n",
       "0    Racchetta        10              200     Roma            2000\n",
       "1       Scarpe         5               50   Milano             250\n",
       "2      Pallina         8               10   Torino              80\n",
       "3        Corde        15               20     Bari             300\n",
       "4  Integratori         7               50   Napoli             350\n",
       "5       Maglie        12               30  Bologna             360"
      ]
     },
     "execution_count": 20,
     "metadata": {},
     "output_type": "execute_result"
    }
   ],
   "source": [
    "df[\"Totale Vendite\"] = df[\"Quantità\"] * df[\"Prezzo Unitario\"]\n",
    "df"
   ]
  },
  {
   "cell_type": "code",
   "execution_count": 21,
   "metadata": {},
   "outputs": [
    {
     "name": "stdout",
     "output_type": "stream",
     "text": [
      "\n",
      "Totale vendite per prodotto:\n",
      " Prodotto\n",
      "Corde           300\n",
      "Integratori     350\n",
      "Maglie          360\n",
      "Pallina          80\n",
      "Racchetta      2000\n",
      "Scarpe          250\n",
      "Name: Totale Vendite, dtype: int64\n"
     ]
    }
   ],
   "source": [
    "vendite_totali_prodotto = df.groupby(\"Prodotto\")[\"Totale Vendite\"].sum()\n",
    "print(\"\\nTotale vendite per prodotto:\\n\", vendite_totali_prodotto)\n",
    "\n"
   ]
  },
  {
   "cell_type": "code",
   "execution_count": 22,
   "metadata": {},
   "outputs": [
    {
     "name": "stdout",
     "output_type": "stream",
     "text": [
      "\n",
      "Prodotto più venduto (Quantità): Corde\n"
     ]
    }
   ],
   "source": [
    "prodotto_piu_venduto = df.groupby(\"Prodotto\")[\"Quantità\"].sum().idxmax()\n",
    "print(\"\\nProdotto più venduto (Quantità):\", prodotto_piu_venduto)\n"
   ]
  },
  {
   "cell_type": "code",
   "execution_count": 23,
   "metadata": {},
   "outputs": [
    {
     "name": "stdout",
     "output_type": "stream",
     "text": [
      "\n",
      "Città con il maggior volume di vendite totali: Roma\n"
     ]
    }
   ],
   "source": [
    "citta_maggiore_volume = df.groupby(\"Città\")[\"Totale Vendite\"].sum().idxmax()\n",
    "print(\"\\nCittà con il maggior volume di vendite totali:\", citta_maggiore_volume)\n"
   ]
  },
  {
   "cell_type": "code",
   "execution_count": 25,
   "metadata": {},
   "outputs": [
    {
     "name": "stdout",
     "output_type": "stream",
     "text": [
      "\n",
      "Vendite superiori a 1000 euro:\n",
      "     Prodotto  Quantità  Prezzo Unitario Città  Totale Vendite\n",
      "0  Racchetta        10              200  Roma            2000\n"
     ]
    }
   ],
   "source": [
    "vendite_superiori_1000 = df[df[\"Totale Vendite\"] > 1000]\n",
    "print(\"\\nVendite superiori a 1000 euro:\\n\", vendite_superiori_1000)\n"
   ]
  },
  {
   "cell_type": "code",
   "execution_count": 26,
   "metadata": {},
   "outputs": [
    {
     "name": "stdout",
     "output_type": "stream",
     "text": [
      "\n",
      "Dataset ordinato per Totale Vendite:\n",
      "       Prodotto  Quantità  Prezzo Unitario    Città  Totale Vendite\n",
      "0    Racchetta        10              200     Roma            2000\n",
      "5       Maglie        12               30  Bologna             360\n",
      "4  Integratori         7               50   Napoli             350\n",
      "3        Corde        15               20     Bari             300\n",
      "1       Scarpe         5               50   Milano             250\n",
      "2      Pallina         8               10   Torino              80\n"
     ]
    }
   ],
   "source": [
    "df_ordinato = df.sort_values(by=\"Totale Vendite\", ascending=False)\n",
    "print(\"\\nDataset ordinato per Totale Vendite:\\n\", df_ordinato)\n"
   ]
  },
  {
   "cell_type": "code",
   "execution_count": 27,
   "metadata": {},
   "outputs": [
    {
     "name": "stdout",
     "output_type": "stream",
     "text": [
      "\n",
      "Numero di vendite per città:\n",
      " Città\n",
      "Bari       15\n",
      "Bologna    12\n",
      "Milano      5\n",
      "Napoli      7\n",
      "Roma       10\n",
      "Torino      8\n",
      "Name: Quantità, dtype: int64\n"
     ]
    }
   ],
   "source": [
    "numero_vendite_citta = df.groupby(\"Città\")[\"Quantità\"].sum()\n",
    "print(\"\\nNumero di vendite per città:\\n\", numero_vendite_citta)\n"
   ]
  }
 ],
 "metadata": {
  "kernelspec": {
   "display_name": ".venv",
   "language": "python",
   "name": "python3"
  },
  "language_info": {
   "codemirror_mode": {
    "name": "ipython",
    "version": 3
   },
   "file_extension": ".py",
   "mimetype": "text/x-python",
   "name": "python",
   "nbconvert_exporter": "python",
   "pygments_lexer": "ipython3",
   "version": "3.12.3"
  }
 },
 "nbformat": 4,
 "nbformat_minor": 2
}
