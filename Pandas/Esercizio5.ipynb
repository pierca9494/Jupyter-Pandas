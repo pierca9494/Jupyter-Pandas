{
 "cells": [
  {
   "cell_type": "code",
   "execution_count": 1,
   "metadata": {},
   "outputs": [],
   "source": [
    "import numpy as np\n",
    "import pandas as pd\n",
    "\n"
   ]
  },
  {
   "cell_type": "code",
   "execution_count": 2,
   "metadata": {},
   "outputs": [],
   "source": [
    "# Larger employee dataset\n",
    "data = {\n",
    "'Name': ['Alice', 'Bob', 'Charlie', 'David', 'Eva', 'Frank', 'Grace', 'Hannah', 'Ian', 'Jack', 'Kara', 'Liam'],\n",
    "'Department': ['HR', 'Finance', 'IT', 'HR', 'Finance', 'IT', 'HR', 'Finance', 'IT', 'HR', 'Finance', 'IT'],\n",
    "'Salary': [50000, 60000, 70000, 52000, 58000, 72000, 55000, 62000, 75000, 51000, 63000, 76000],\n",
    "'Experience': [2, 5, 8, 3, 4, 10, 4, 6, 12, 1, 7, 15]\n",
    "}\n",
    "df = pd.DataFrame(data)"
   ]
  },
  {
   "cell_type": "code",
   "execution_count": 3,
   "metadata": {},
   "outputs": [
    {
     "name": "stdout",
     "output_type": "stream",
     "text": [
      "Media salariale per dipartimento: Department\n",
      "Finance    60750.0\n",
      "HR         52000.0\n",
      "IT         73250.0\n",
      "Name: Salary, dtype: float64\n"
     ]
    }
   ],
   "source": [
    "media_dipartimento = df.groupby(\"Department\")[\"Salary\"].mean()\n",
    "print(f\"Media salariale per dipartimento: {media_dipartimento}\")"
   ]
  },
  {
   "cell_type": "code",
   "execution_count": 4,
   "metadata": {},
   "outputs": [
    {
     "name": "stdout",
     "output_type": "stream",
     "text": [
      "Media esperienze per dipartimento: Department\n",
      "Finance     5.50\n",
      "HR          2.50\n",
      "IT         11.25\n",
      "Name: Experience, dtype: float64\n"
     ]
    }
   ],
   "source": [
    "media_esperienza = df.groupby(\"Department\")[\"Experience\"].mean()\n",
    "print(f\"Media esperienze per dipartimento: {media_esperienza}\")"
   ]
  },
  {
   "cell_type": "code",
   "execution_count": 5,
   "metadata": {},
   "outputs": [
    {
     "name": "stdout",
     "output_type": "stream",
     "text": [
      "Dipartimento con stipendi mediamente sopra la media: \n",
      "       Name Department  Salary  Experience\n",
      "2   Charlie         IT   70000           8\n",
      "5     Frank         IT   72000          10\n",
      "8       Ian         IT   75000          12\n",
      "10     Kara    Finance   63000           7\n",
      "11     Liam         IT   76000          15\n"
     ]
    }
   ],
   "source": [
    "stipendi_media = df[\"Salary\"].mean()\n",
    "stipendi_sopra = df[df[\"Salary\"]> stipendi_media]\n",
    "print(f\"Dipartimento con stipendi mediamente sopra la media: \")\n",
    "print(stipendi_sopra)\n"
   ]
  },
  {
   "cell_type": "code",
   "execution_count": 6,
   "metadata": {},
   "outputs": [
    {
     "name": "stdout",
     "output_type": "stream",
     "text": [
      "Department\n",
      "Finance    243000\n",
      "HR         208000\n",
      "IT         293000\n",
      "Name: Salary, dtype: int64\n",
      "Dipartimento con la somma dei stipendi massima: IT\n"
     ]
    }
   ],
   "source": [
    "somma_stipendi = df.groupby(\"Department\")[\"Salary\"].sum()\n",
    "dipartimento_con_massimo_stipendi = somma_stipendi.idxmax()\n",
    "print(somma_stipendi)\n",
    "print(f\"Dipartimento con la somma dei stipendi massima: {dipartimento_con_massimo_stipendi}\")"
   ]
  }
 ],
 "metadata": {
  "kernelspec": {
   "display_name": ".venv",
   "language": "python",
   "name": "python3"
  },
  "language_info": {
   "codemirror_mode": {
    "name": "ipython",
    "version": 3
   },
   "file_extension": ".py",
   "mimetype": "text/x-python",
   "name": "python",
   "nbconvert_exporter": "python",
   "pygments_lexer": "ipython3",
   "version": "3.12.3"
  }
 },
 "nbformat": 4,
 "nbformat_minor": 2
}
