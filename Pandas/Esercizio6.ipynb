{
 "cells": [
  {
   "cell_type": "code",
   "execution_count": 1,
   "metadata": {},
   "outputs": [],
   "source": [
    "import numpy as np \n",
    "import pandas as pd"
   ]
  },
  {
   "cell_type": "code",
   "execution_count": 3,
   "metadata": {},
   "outputs": [],
   "source": [
    "\n",
    "\n",
    "df1 = pd.DataFrame({\n",
    "'key': ['A', 'B', 'C'],\n",
    "'value1': [1, 2, 3]\n",
    "})\n",
    "\n",
    "df2 = pd.DataFrame({\n",
    "'key': ['A', 'B', 'D'],\n",
    "'value2': [4, 5, 6]\n",
    "})"
   ]
  },
  {
   "cell_type": "code",
   "execution_count": 4,
   "metadata": {},
   "outputs": [
    {
     "name": "stdout",
     "output_type": "stream",
     "text": [
      "  key  value1  value2\n",
      "0   A       1       4\n",
      "1   B       2       5\n"
     ]
    }
   ],
   "source": [
    "df_merge = pd.merge(df1, df2, on='key', how='inner')\n",
    "\n",
    "print(df_merge)"
   ]
  },
  {
   "cell_type": "code",
   "execution_count": 5,
   "metadata": {},
   "outputs": [
    {
     "name": "stdout",
     "output_type": "stream",
     "text": [
      "  key  value1  value2\n",
      "0   A     1.0     4.0\n",
      "1   B     2.0     5.0\n",
      "2   C     3.0     NaN\n",
      "3   D     NaN     6.0\n"
     ]
    }
   ],
   "source": [
    "df_merge_out = pd.merge(df1, df2, on='key', how='outer')\n",
    "\n",
    "print(df_merge_out)"
   ]
  },
  {
   "cell_type": "code",
   "execution_count": 6,
   "metadata": {},
   "outputs": [],
   "source": [
    "df1 = pd.DataFrame({\n",
    "    'A': ['foo', 'bar'],\n",
    "    'B': [1, 2]\n",
    "})\n",
    "\n",
    "df2 = pd.DataFrame({\n",
    "    'A': ['baz', 'qux'],\n",
    "    'B': [3, 4]\n",
    "})\n",
    "\n"
   ]
  },
  {
   "cell_type": "code",
   "execution_count": 17,
   "metadata": {},
   "outputs": [
    {
     "name": "stdout",
     "output_type": "stream",
     "text": [
      "  chiave1 chiave2    A    B\n",
      "0      K0      K0   A0  NaN\n",
      "1      K1      K1   A1  NaN\n",
      "2      K2      K0   A2  NaN\n",
      "3      K0      K0  NaN   B0\n",
      "4      K1      K0  NaN   B1\n",
      "5      K3      K0  NaN   B3\n"
     ]
    }
   ],
   "source": [
    "# Impilare i DataFrame uno sopra l'altro\n",
    "result = pd.concat([df1, df2], ignore_index=True)\n",
    "\n",
    "print(result)"
   ]
  },
  {
   "cell_type": "code",
   "execution_count": 15,
   "metadata": {},
   "outputs": [],
   "source": [
    "df1 = pd.DataFrame({\n",
    "    'chiave1': ['K0', 'K1', 'K2'],\n",
    "    'chiave2': ['K0', 'K1', 'K0'],\n",
    "    'A': ['A0', 'A1', 'A2']\n",
    "})\n",
    "\n",
    "df2 = pd.DataFrame({\n",
    "    'chiave1': ['K0', 'K1', 'K3'],\n",
    "    'chiave2': ['K0', 'K0', 'K0'],\n",
    "    'B': ['B0', 'B1', 'B3']\n",
    "})"
   ]
  },
  {
   "cell_type": "code",
   "execution_count": null,
   "metadata": {},
   "outputs": [
    {
     "name": "stdout",
     "output_type": "stream",
     "text": [
      "  chiave1 chiave2   A    B\n",
      "0      K0      K0  A0   B0\n",
      "1      K1      K1  A1  NaN\n",
      "2      K2      K0  A2  NaN\n"
     ]
    }
   ],
   "source": [
    "df_left = pd.merge(df1, df2, on=['chiave1', 'chiave2'], how='left')\n",
    "\n",
    "print(df_left)"
   ]
  },
  {
   "cell_type": "code",
   "execution_count": 18,
   "metadata": {},
   "outputs": [],
   "source": [
    "df1 = pd.DataFrame({\n",
    "    'A': ['A0', 'A1', 'A2'],\n",
    "    'B': ['B0', 'B1', 'B2']\n",
    "}, index=[0, 1, 2])\n",
    "\n",
    "df2 = pd.DataFrame({\n",
    "    'C': ['C0', 'C1', 'C2'],\n",
    "    'D': ['D0', 'D1', 'D2']\n",
    "}, index=[0, 2, 3])"
   ]
  },
  {
   "cell_type": "code",
   "execution_count": 19,
   "metadata": {},
   "outputs": [
    {
     "name": "stdout",
     "output_type": "stream",
     "text": [
      "     A    B    C    D\n",
      "0   A0   B0   C0   D0\n",
      "1   A1   B1  NaN  NaN\n",
      "2   A2   B2   C1   D1\n",
      "3  NaN  NaN   C2   D2\n"
     ]
    }
   ],
   "source": [
    "result = pd.concat([df1, df2], axis=1)\n",
    "\n",
    "print(result)"
   ]
  },
  {
   "cell_type": "code",
   "execution_count": 20,
   "metadata": {},
   "outputs": [],
   "source": [
    "df1 = pd.DataFrame({\n",
    "'chiave': ['K0', 'K1', 'K2', 'K3'],\n",
    "'A': ['A0', 'A1', 'A2', 'A3']\n",
    "})\n",
    "\n",
    "df2 = pd.DataFrame({\n",
    "'chiave': ['K0', 'K1', 'K2'],\n",
    "'B': ['B0', 'B1', 'B2']\n",
    "})\n",
    "\n",
    "df3 = pd.DataFrame({\n",
    "'chiave': ['K1', 'K2', 'K4'],\n",
    "'C': ['C1', 'C2', 'C4']\n",
    "})"
   ]
  },
  {
   "cell_type": "code",
   "execution_count": 25,
   "metadata": {},
   "outputs": [
    {
     "name": "stdout",
     "output_type": "stream",
     "text": [
      "  chiave   A   B\n",
      "0     K0  A0  B0\n",
      "1     K1  A1  B1\n",
      "2     K2  A2  B2\n",
      "risultato con rightjoin:\n",
      "  chiave    A    B   C\n",
      "0     K1   A1   B1  C1\n",
      "1     K2   A2   B2  C2\n",
      "2     K4  NaN  NaN  C4\n",
      "risultato con outer join:\n",
      "  chiave    A    B    C\n",
      "0     K0   A0   B0  NaN\n",
      "1     K1   A1   B1   C1\n",
      "2     K2   A2   B2   C2\n",
      "3     K4  NaN  NaN   C4\n",
      "risultato con inner join:\n",
      "  chiave   A   B   C\n",
      "0     K1  A1  B1  C1\n",
      "1     K2  A2  B2  C2\n",
      "risultato con left join:\n",
      "  chiave   A   B    C\n",
      "0     K0  A0  B0  NaN\n",
      "1     K1  A1  B1   C1\n",
      "2     K2  A2  B2   C2\n"
     ]
    }
   ],
   "source": [
    "mergered = pd.merge(df1,df2, on=\"chiave\", how=\"inner\")\n",
    "print(mergered)\n",
    "result = pd.merge(mergered, df3, on=\"chiave\", how=\"right\")\n",
    "\n",
    "print(f\"risultato con rightjoin:\")\n",
    "print(result)\n",
    "\n",
    "result2 = pd.merge(mergered, df3, on=\"chiave\", how=\"outer\")\n",
    "\n",
    "\n",
    "print(f\"risultato con outer join:\")\n",
    "print(result2)\n",
    "\n",
    "result3 = pd.merge(mergered, df3, on=\"chiave\", how=\"inner\")\n",
    "\n",
    "\n",
    "print(f\"risultato con inner join:\")\n",
    "print(result3)\n",
    "\n",
    "result4 = pd.merge(mergered, df3, on=\"chiave\", how=\"left\")\n",
    "\n",
    "print(f\"risultato con left join:\")\n",
    "print(result4)\n",
    "\n"
   ]
  },
  {
   "cell_type": "code",
   "execution_count": 26,
   "metadata": {},
   "outputs": [],
   "source": [
    "data = {\n",
    "'Data': ['2024-01', '2024-01', '2024-02', '2024-02'],\n",
    "'Categoria': ['A', 'B', 'A', 'B'],\n",
    "'Valore': [10, 20, 15, 25]\n",
    "}\n",
    "\n",
    "df = pd.DataFrame(data)"
   ]
  },
  {
   "cell_type": "code",
   "execution_count": 27,
   "metadata": {},
   "outputs": [
    {
     "name": "stdout",
     "output_type": "stream",
     "text": [
      "Categoria     Data   A   B\n",
      "0          2024-01  10  20\n",
      "1          2024-02  15  25\n"
     ]
    }
   ],
   "source": [
    "df_pivot = df.pivot(index='Data', columns='Categoria', values='Valore').reset_index()\n",
    "\n",
    "\n",
    "print(df_pivot)"
   ]
  },
  {
   "cell_type": "code",
   "execution_count": 28,
   "metadata": {},
   "outputs": [],
   "source": [
    "data = {\n",
    "'Venditore': ['Alice', 'Bob', 'Alice', 'Bob', 'Charlie'],\n",
    "'Mese': ['Gennaio', 'Gennaio', 'Febbraio', 'Febbraio', 'Gennaio'],\n",
    "'Vendite': [200, 150, 300, 250, 100]\n",
    "}\n",
    "\n",
    "df = pd.DataFrame(data)"
   ]
  },
  {
   "cell_type": "code",
   "execution_count": 32,
   "metadata": {},
   "outputs": [
    {
     "name": "stdout",
     "output_type": "stream",
     "text": [
      "Mese       Febbraio  Gennaio\n",
      "Venditore                   \n",
      "Alice         300.0    200.0\n",
      "Bob           250.0    150.0\n",
      "Charlie         0.0    100.0\n"
     ]
    }
   ],
   "source": [
    "pivot = df.pivot_table(index='Venditore', columns='Mese', values='Vendite', aggfunc='mean', fill_value=0)\n",
    "\n",
    "print(pivot)"
   ]
  },
  {
   "cell_type": "code",
   "execution_count": 31,
   "metadata": {},
   "outputs": [
    {
     "name": "stdout",
     "output_type": "stream",
     "text": [
      "Mese       Febbraio  Gennaio  Totale\n",
      "Venditore                           \n",
      "Alice           300      200     500\n",
      "Bob             250      150     400\n",
      "Charlie           0      100     100\n"
     ]
    }
   ],
   "source": [
    "pivot['Totale'] = pivot.sum(axis=1)\n",
    "\n",
    "print(pivot)"
   ]
  }
 ],
 "metadata": {
  "kernelspec": {
   "display_name": ".venv",
   "language": "python",
   "name": "python3"
  },
  "language_info": {
   "codemirror_mode": {
    "name": "ipython",
    "version": 3
   },
   "file_extension": ".py",
   "mimetype": "text/x-python",
   "name": "python",
   "nbconvert_exporter": "python",
   "pygments_lexer": "ipython3",
   "version": "3.12.3"
  }
 },
 "nbformat": 4,
 "nbformat_minor": 2
}
