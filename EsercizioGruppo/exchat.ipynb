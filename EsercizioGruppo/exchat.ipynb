{
 "cells": [
  {
   "cell_type": "code",
   "execution_count": 1,
   "metadata": {},
   "outputs": [],
   "source": [
    "import pandas as pd\n",
    "import seaborn as sns\n",
    "import matplotlib.pyplot as plt"
   ]
  },
  {
   "cell_type": "code",
   "execution_count": null,
   "metadata": {},
   "outputs": [],
   "source": [
    "# Example Titanic Data\n",
    "data = {\n",
    "    'Pclass': [1, 2, 3, 1, 2, 3, 1, 3],\n",
    "    'Embarked': ['C', 'S', 'Q', 'C', 'S', 'S', 'Q', 'C'],\n",
    "    'Survived': [1, 0, 0, 1, 1, 0, 0, 1],\n",
    "    'Fare': [71, 20, 8, 53, 30, 7, 40, 15]\n",
    "}\n",
    "df = pd.DataFrame(data)\n",
    "\n",
    "# Group by 'Survived' and generate a heatmap for each group\n",
    "grouped = df.groupby('Survived')\n",
    "\n",
    "# Loop through each group and generate a heatmap\n",
    "for group_name, group_data in grouped:\n",
    "    # Pivot the grouped data for the heatmap\n",
    "    pivoted = group_data.pivot(index='Pclass', columns='Embarked', values='Fare')\n",
    "    \n",
    "    # Create a new figure for each heatmap\n",
    "    plt.figure(figsize=(8, 6))\n",
    "    \n",
    "    # Generate the heatmap\n",
    "    sns.heatmap(pivoted, annot=True, cmap='coolwarm', cbar_kws={'label': 'Fare'})\n",
    "    \n",
    "    # Add title and labels\n",
    "    plt.title(f'Heatmap for Survived = {group_name}')\n",
    "    plt.xlabel('Embarked')\n",
    "    plt.ylabel('Pclass')\n",
    "    \n",
    "    # Display the heatmap\n",
    "    plt.show()"
   ]
  }
 ],
 "metadata": {
  "kernelspec": {
   "display_name": ".venv",
   "language": "python",
   "name": "python3"
  },
  "language_info": {
   "codemirror_mode": {
    "name": "ipython",
    "version": 3
   },
   "file_extension": ".py",
   "mimetype": "text/x-python",
   "name": "python",
   "nbconvert_exporter": "python",
   "pygments_lexer": "ipython3",
   "version": "3.12.3"
  }
 },
 "nbformat": 4,
 "nbformat_minor": 2
}
