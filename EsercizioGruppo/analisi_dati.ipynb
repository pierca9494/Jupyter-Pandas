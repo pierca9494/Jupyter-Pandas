{
 "cells": [
  {
   "cell_type": "markdown",
   "metadata": {},
   "source": [
    "Analisi Dati di Gruppo"
   ]
  },
  {
   "cell_type": "code",
   "execution_count": 13,
   "metadata": {},
   "outputs": [],
   "source": [
    "import numpy as np \n",
    "import pandas as pd\n",
    "import matplotlib.pyplot as plt\n",
    "import seaborn as sns"
   ]
  },
  {
   "cell_type": "code",
   "execution_count": 14,
   "metadata": {},
   "outputs": [
    {
     "name": "stdout",
     "output_type": "stream",
     "text": [
      "\n",
      "Informazioni Data Frame Car\n",
      "\n",
      "\n",
      "<class 'pandas.core.frame.DataFrame'>\n",
      "RangeIndex: 188533 entries, 0 to 188532\n",
      "Data columns (total 13 columns):\n",
      " #   Column        Non-Null Count   Dtype \n",
      "---  ------        --------------   ----- \n",
      " 0   id            188533 non-null  int64 \n",
      " 1   brand         188533 non-null  object\n",
      " 2   model         188533 non-null  object\n",
      " 3   model_year    188533 non-null  int64 \n",
      " 4   milage        188533 non-null  int64 \n",
      " 5   fuel_type     183450 non-null  object\n",
      " 6   engine        188533 non-null  object\n",
      " 7   transmission  188533 non-null  object\n",
      " 8   ext_col       188533 non-null  object\n",
      " 9   int_col       188533 non-null  object\n",
      " 10  accident      186081 non-null  object\n",
      " 11  clean_title   167114 non-null  object\n",
      " 12  price         188533 non-null  int64 \n",
      "dtypes: int64(4), object(9)\n",
      "memory usage: 18.7+ MB\n"
     ]
    },
    {
     "data": {
      "text/plain": [
       "None"
      ]
     },
     "metadata": {},
     "output_type": "display_data"
    }
   ],
   "source": [
    "df = pd.read_csv('train.csv')\n",
    "\n",
    "print(\"\\nInformazioni Data Frame Car\\n\\n\")\n",
    "\n",
    "display(df.info())"
   ]
  },
  {
   "cell_type": "code",
   "execution_count": 15,
   "metadata": {},
   "outputs": [
    {
     "name": "stdout",
     "output_type": "stream",
     "text": [
      "\n",
      "Stampa elementi unici per colonna:\n",
      "\n",
      "\n",
      "Ci sono 57 brand diversi.\n",
      "Ci sono 34 anni diversi.\n"
     ]
    },
    {
     "name": "stdout",
     "output_type": "stream",
     "text": [
      "Ci sono 1897 modelli diversi.\n",
      "Ci sono 8 fuel_type diversi.\n",
      "Ci sono 1117 engine diversi.\n",
      "Ci sono 52 trasmissioni diverse.\n",
      "Ci sono 319 ext_col diversi.\n",
      "Ci sono 156 int_col diversi.\n",
      "Ci sono 3 accident diversi.\n",
      "Ci sono 2 clean_title diversi.\n",
      "Ci sono 1569 price diversi.\n"
     ]
    }
   ],
   "source": [
    "print(\"\\nStampa elementi unici per colonna:\\n\\n\")\n",
    "\n",
    "print(\"Ci sono\",len(set(df[\"brand\"])),\"brand diversi.\")\n",
    "print(\"Ci sono\",len(set(df[\"model_year\"])), \"anni diversi.\")\n",
    "print(\"Ci sono\",len(set(df[\"model\"])),\"modelli diversi.\")\n",
    "print(\"Ci sono\",len(set(df[\"fuel_type\"])), \"fuel_type diversi.\")\n",
    "print(\"Ci sono\",len(set(df[\"engine\"])),\"engine diversi.\")\n",
    "print(\"Ci sono\",len(set(df[\"transmission\"])), \"trasmissioni diverse.\")\n",
    "print(\"Ci sono\",len(set(df[\"ext_col\"])),\"ext_col diversi.\")\n",
    "print(\"Ci sono\",len(set(df[\"int_col\"])), \"int_col diversi.\")\n",
    "print(\"Ci sono\",len(set(df[\"accident\"])), \"accident diversi.\")\n",
    "print(\"Ci sono\",len(set(df[\"clean_title\"])),\"clean_title diversi.\")\n",
    "print(\"Ci sono\",len(set(df[\"price\"])), \"price diversi.\")\n",
    "\n"
   ]
  },
  {
   "cell_type": "code",
   "execution_count": 16,
   "metadata": {},
   "outputs": [
    {
     "name": "stderr",
     "output_type": "stream",
     "text": [
      "/tmp/ipykernel_33557/585391148.py:3: FutureWarning: A value is trying to be set on a copy of a DataFrame or Series through chained assignment using an inplace method.\n",
      "The behavior will change in pandas 3.0. This inplace method will never work because the intermediate object on which we are setting values always behaves as a copy.\n",
      "\n",
      "For example, when doing 'df[col].method(value, inplace=True)', try using 'df.method({col: value}, inplace=True)' or df[col] = df[col].method(value) instead, to perform the operation inplace on the original object.\n",
      "\n",
      "\n",
      "  df[\"accident\"].replace(\"None reported\", 0, inplace = True)\n",
      "/tmp/ipykernel_33557/585391148.py:4: FutureWarning: A value is trying to be set on a copy of a DataFrame or Series through chained assignment using an inplace method.\n",
      "The behavior will change in pandas 3.0. This inplace method will never work because the intermediate object on which we are setting values always behaves as a copy.\n",
      "\n",
      "For example, when doing 'df[col].method(value, inplace=True)', try using 'df.method({col: value}, inplace=True)' or df[col] = df[col].method(value) instead, to perform the operation inplace on the original object.\n",
      "\n",
      "\n",
      "  df[\"accident\"].replace(\"At least 1 accident or damage reported\", 1, inplace = True)\n",
      "/tmp/ipykernel_33557/585391148.py:4: FutureWarning: Downcasting behavior in `replace` is deprecated and will be removed in a future version. To retain the old behavior, explicitly call `result.infer_objects(copy=False)`. To opt-in to the future behavior, set `pd.set_option('future.no_silent_downcasting', True)`\n",
      "  df[\"accident\"].replace(\"At least 1 accident or damage reported\", 1, inplace = True)\n",
      "/tmp/ipykernel_33557/585391148.py:10: FutureWarning: A value is trying to be set on a copy of a DataFrame or Series through chained assignment using an inplace method.\n",
      "The behavior will change in pandas 3.0. This inplace method will never work because the intermediate object on which we are setting values always behaves as a copy.\n",
      "\n",
      "For example, when doing 'df[col].method(value, inplace=True)', try using 'df.method({col: value}, inplace=True)' or df[col] = df[col].method(value) instead, to perform the operation inplace on the original object.\n",
      "\n",
      "\n",
      "  df[\"clean_title\"].replace(\"Yes\", 1, inplace = True)\n",
      "/tmp/ipykernel_33557/585391148.py:10: FutureWarning: Downcasting behavior in `replace` is deprecated and will be removed in a future version. To retain the old behavior, explicitly call `result.infer_objects(copy=False)`. To opt-in to the future behavior, set `pd.set_option('future.no_silent_downcasting', True)`\n",
      "  df[\"clean_title\"].replace(\"Yes\", 1, inplace = True)\n"
     ]
    }
   ],
   "source": [
    "#Rendiamo numerica la colonna Accident\n",
    "df['accident'] = df['accident'].fillna(-1)\n",
    "df[\"accident\"].replace(\"None reported\", 0, inplace = True)\n",
    "df[\"accident\"].replace(\"At least 1 accident or damage reported\", 1, inplace = True)\n",
    "\n",
    "\n",
    "#Rendiamo numerica la colonna clean_title\n",
    "\n",
    "df['clean_title'] = df['clean_title'].fillna(0)\n",
    "df[\"clean_title\"].replace(\"Yes\", 1, inplace = True)\n",
    "\n",
    "#Pulizia colonna fuel_type\n",
    "\n",
    "df['fuel_type'] = df['fuel_type'].fillna(-1)\n",
    "\n"
   ]
  },
  {
   "cell_type": "code",
   "execution_count": 17,
   "metadata": {},
   "outputs": [
    {
     "name": "stdout",
     "output_type": "stream",
     "text": [
      "Media del prezzo per anno modello:\n",
      " model_year\n",
      "1974    74124.083333\n",
      "1992    26957.000000\n",
      "1993    38091.871429\n",
      "1994    50181.760870\n",
      "1995    38205.872549\n",
      "1996    17370.894180\n",
      "1997    14586.419872\n",
      "1998    13442.169096\n",
      "1999    10702.705776\n",
      "2000    13796.912186\n",
      "2001    19227.459583\n",
      "2002    21286.650546\n",
      "2003    17021.920252\n",
      "2004    19401.310506\n",
      "2005    26376.852029\n",
      "2006    18351.585288\n",
      "2007    19449.327112\n",
      "2008    20384.406711\n",
      "2009    21522.417894\n",
      "2010    19964.660449\n",
      "2011    18084.812450\n",
      "2012    19806.953897\n",
      "2013    23437.342702\n",
      "2014    24758.274866\n",
      "2015    30974.878567\n",
      "2016    33531.819655\n",
      "2017    37943.234329\n",
      "2018    47707.568722\n",
      "2019    49375.295606\n",
      "2020    61556.784074\n",
      "2021    65893.857951\n",
      "2022    72732.327005\n",
      "2023    95707.912305\n",
      "2024    78006.067901\n",
      "Name: price, dtype: float64\n"
     ]
    }
   ],
   "source": [
    "model_price_mean = df.groupby('model_year')['price'].mean()\n",
    "print(\"Media del prezzo per anno modello:\\n\", model_price_mean)\n"
   ]
  },
  {
   "cell_type": "code",
   "execution_count": 18,
   "metadata": {},
   "outputs": [
    {
     "data": {
      "text/plain": [
       "28        3499\n",
       "133       3900\n",
       "305       3850\n",
       "348       2300\n",
       "394       3600\n",
       "          ... \n",
       "187838    2500\n",
       "187866    3950\n",
       "187916    2300\n",
       "188353    3499\n",
       "188475    2500\n",
       "Name: price, Length: 1561, dtype: int64"
      ]
     },
     "metadata": {},
     "output_type": "display_data"
    }
   ],
   "source": [
    "df[\"price\"].nunique()\n",
    "display(df[df[\"price\"]<4000][\"price\"])"
   ]
  },
  {
   "cell_type": "code",
   "execution_count": null,
   "metadata": {},
   "outputs": [
    {
     "name": "stderr",
     "output_type": "stream",
     "text": [
      "/tmp/ipykernel_33557/426557733.py:17: FutureWarning: The default of observed=False is deprecated and will be changed to True in a future version of pandas. Pass observed=False to retain current behavior or observed=True to adopt the future default and silence this warning.\n",
      "  price_group =  df.groupby('PriceGroup').agg(\n"
     ]
    },
    {
     "data": {
      "text/plain": [
       "<seaborn.axisgrid.PairGrid at 0x72b936b6e780>"
      ]
     },
     "execution_count": 28,
     "metadata": {},
     "output_type": "execute_result"
    },
    {
     "data": {
      "image/png": "[encoded data removed]",
      "text/plain": [
       "<Figure size 750x750 with 12 Axes>"
      ]
     },
     "metadata": {},
     "output_type": "display_data"
    }
   ],
   "source": [
    "def custom_range(start, stop):\n",
    "    current = start\n",
    "    while current < stop:\n",
    "        if 2000 <= current < 10000:\n",
    "            step = 2000\n",
    "        elif 10000 <= current < 1000000:\n",
    "            step = 100000\n",
    "        elif 1000000 <= current <= 2954083:\n",
    "            step = 1000000\n",
    "        else:\n",
    "            break  # Se fuori dai range specificati\n",
    "        yield current\n",
    "        current += step\n",
    "\n",
    "df['PriceGroup'] = pd.cut(df['price'], bins= custom_range(2000,2954083), right= False)\n",
    "\n",
    "price_group =  df.groupby('PriceGroup').agg(\n",
    "    media_anno=('model_year', 'mean'),\n",
    "    count_id = ('model_year', 'count'),\n",
    "    \n",
    "    milage_price = ('milage', 'mean')\n",
    ")\n",
    "\n",
    "display(price_group)\n",
    "# plt.hist(price_group['milage_price'])\n",
    "sns.pairplot(price_group)\n"
   ]
  },
  {
   "cell_type": "code",
   "execution_count": 31,
   "metadata": {},
   "outputs": [
    {
     "ename": "KeyError",
     "evalue": "\"['transmission', 'engine', 'fuel_type'] not found in axis\"",
     "output_type": "error",
     "traceback": [
      "\u001b[0;31m---------------------------------------------------------------------------\u001b[0m",
      "\u001b[0;31mKeyError\u001b[0m                                  Traceback (most recent call last)",
      "Cell \u001b[0;32mIn[31], line 47\u001b[0m\n\u001b[1;32m     44\u001b[0m     \u001b[38;5;28;01mreturn\u001b[39;00m filtered_corr_list\n\u001b[1;32m     46\u001b[0m \u001b[38;5;66;03m# Usa la funzione per ogni gruppo\u001b[39;00m\n\u001b[0;32m---> 47\u001b[0m filtered_corr_brands \u001b[38;5;241m=\u001b[39m \u001b[43manalyze_and_plot\u001b[49m\u001b[43m(\u001b[49m\u001b[43mdf\u001b[49m\u001b[43m,\u001b[49m\u001b[43m \u001b[49m\u001b[38;5;124;43m'\u001b[39;49m\u001b[38;5;124;43mbrand\u001b[39;49m\u001b[38;5;124;43m'\u001b[39;49m\u001b[43m,\u001b[49m\u001b[43m \u001b[49m\u001b[38;5;124;43m'\u001b[39;49m\u001b[38;5;124;43m./image/brands\u001b[39;49m\u001b[38;5;124;43m'\u001b[39;49m\u001b[43m)\u001b[49m\n\u001b[1;32m     48\u001b[0m filtered_corr_trans \u001b[38;5;241m=\u001b[39m analyze_and_plot(df, \u001b[38;5;124m'\u001b[39m\u001b[38;5;124mtransmission\u001b[39m\u001b[38;5;124m'\u001b[39m, \u001b[38;5;124m'\u001b[39m\u001b[38;5;124m./image/trans\u001b[39m\u001b[38;5;124m'\u001b[39m)\n\u001b[1;32m     49\u001b[0m filtered_corr_engines \u001b[38;5;241m=\u001b[39m analyze_and_plot(df, \u001b[38;5;124m'\u001b[39m\u001b[38;5;124mengine\u001b[39m\u001b[38;5;124m'\u001b[39m, \u001b[38;5;124m'\u001b[39m\u001b[38;5;124m./image/engines\u001b[39m\u001b[38;5;124m'\u001b[39m)\n",
      "Cell \u001b[0;32mIn[31], line 23\u001b[0m, in \u001b[0;36manalyze_and_plot\u001b[0;34m(dataframe, group_col, save_path)\u001b[0m\n\u001b[1;32m     20\u001b[0m group_name \u001b[38;5;241m=\u001b[39m df_filtered[group_col]\u001b[38;5;241m.\u001b[39miloc[\u001b[38;5;241m0\u001b[39m]\n\u001b[1;32m     22\u001b[0m \u001b[38;5;66;03m# Rimuovi le colonne non necessarie\u001b[39;00m\n\u001b[0;32m---> 23\u001b[0m df_cleaned \u001b[38;5;241m=\u001b[39m \u001b[43mdf_filtered\u001b[49m\u001b[38;5;241;43m.\u001b[39;49m\u001b[43mdrop\u001b[49m\u001b[43m(\u001b[49m\u001b[43m[\u001b[49m\u001b[38;5;124;43m'\u001b[39;49m\u001b[38;5;124;43mbrand\u001b[39;49m\u001b[38;5;124;43m'\u001b[39;49m\u001b[43m,\u001b[49m\u001b[43m \u001b[49m\u001b[38;5;124;43m'\u001b[39;49m\u001b[38;5;124;43mtransmission\u001b[39;49m\u001b[38;5;124;43m'\u001b[39;49m\u001b[43m,\u001b[49m\u001b[43m \u001b[49m\u001b[38;5;124;43m'\u001b[39;49m\u001b[38;5;124;43mengine\u001b[39;49m\u001b[38;5;124;43m'\u001b[39;49m\u001b[43m,\u001b[49m\u001b[43m \u001b[49m\u001b[38;5;124;43m'\u001b[39;49m\u001b[38;5;124;43mfuel_type\u001b[39;49m\u001b[38;5;124;43m'\u001b[39;49m\u001b[43m]\u001b[49m\u001b[43m,\u001b[49m\u001b[43m \u001b[49m\u001b[43maxis\u001b[49m\u001b[38;5;241;43m=\u001b[39;49m\u001b[38;5;241;43m1\u001b[39;49m\u001b[43m)\u001b[49m\n\u001b[1;32m     25\u001b[0m \u001b[38;5;66;03m# Calcola la matrice di correlazione\u001b[39;00m\n\u001b[1;32m     26\u001b[0m corr_matrix \u001b[38;5;241m=\u001b[39m df_cleaned\u001b[38;5;241m.\u001b[39mcorr()\n",
      "File \u001b[0;32m~/Documents/GitHub/Jupyter-Pandas/.venv/lib/python3.12/site-packages/pandas/core/frame.py:5581\u001b[0m, in \u001b[0;36mDataFrame.drop\u001b[0;34m(self, labels, axis, index, columns, level, inplace, errors)\u001b[0m\n\u001b[1;32m   5433\u001b[0m \u001b[38;5;28;01mdef\u001b[39;00m \u001b[38;5;21mdrop\u001b[39m(\n\u001b[1;32m   5434\u001b[0m     \u001b[38;5;28mself\u001b[39m,\n\u001b[1;32m   5435\u001b[0m     labels: IndexLabel \u001b[38;5;241m|\u001b[39m \u001b[38;5;28;01mNone\u001b[39;00m \u001b[38;5;241m=\u001b[39m \u001b[38;5;28;01mNone\u001b[39;00m,\n\u001b[0;32m   (...)\u001b[0m\n\u001b[1;32m   5442\u001b[0m     errors: IgnoreRaise \u001b[38;5;241m=\u001b[39m \u001b[38;5;124m\"\u001b[39m\u001b[38;5;124mraise\u001b[39m\u001b[38;5;124m\"\u001b[39m,\n\u001b[1;32m   5443\u001b[0m ) \u001b[38;5;241m-\u001b[39m\u001b[38;5;241m>\u001b[39m DataFrame \u001b[38;5;241m|\u001b[39m \u001b[38;5;28;01mNone\u001b[39;00m:\n\u001b[1;32m   5444\u001b[0m \u001b[38;5;250m    \u001b[39m\u001b[38;5;124;03m\"\"\"\u001b[39;00m\n\u001b[1;32m   5445\u001b[0m \u001b[38;5;124;03m    Drop specified labels from rows or columns.\u001b[39;00m\n\u001b[1;32m   5446\u001b[0m \n\u001b[0;32m   (...)\u001b[0m\n\u001b[1;32m   5579\u001b[0m \u001b[38;5;124;03m            weight  1.0     0.8\u001b[39;00m\n\u001b[1;32m   5580\u001b[0m \u001b[38;5;124;03m    \"\"\"\u001b[39;00m\n\u001b[0;32m-> 5581\u001b[0m     \u001b[38;5;28;01mreturn\u001b[39;00m \u001b[38;5;28;43msuper\u001b[39;49m\u001b[43m(\u001b[49m\u001b[43m)\u001b[49m\u001b[38;5;241;43m.\u001b[39;49m\u001b[43mdrop\u001b[49m\u001b[43m(\u001b[49m\n\u001b[1;32m   5582\u001b[0m \u001b[43m        \u001b[49m\u001b[43mlabels\u001b[49m\u001b[38;5;241;43m=\u001b[39;49m\u001b[43mlabels\u001b[49m\u001b[43m,\u001b[49m\n\u001b[1;32m   5583\u001b[0m \u001b[43m        \u001b[49m\u001b[43maxis\u001b[49m\u001b[38;5;241;43m=\u001b[39;49m\u001b[43maxis\u001b[49m\u001b[43m,\u001b[49m\n\u001b[1;32m   5584\u001b[0m \u001b[43m        \u001b[49m\u001b[43mindex\u001b[49m\u001b[38;5;241;43m=\u001b[39;49m\u001b[43mindex\u001b[49m\u001b[43m,\u001b[49m\n\u001b[1;32m   5585\u001b[0m \u001b[43m        \u001b[49m\u001b[43mcolumns\u001b[49m\u001b[38;5;241;43m=\u001b[39;49m\u001b[43mcolumns\u001b[49m\u001b[43m,\u001b[49m\n\u001b[1;32m   5586\u001b[0m \u001b[43m        \u001b[49m\u001b[43mlevel\u001b[49m\u001b[38;5;241;43m=\u001b[39;49m\u001b[43mlevel\u001b[49m\u001b[43m,\u001b[49m\n\u001b[1;32m   5587\u001b[0m \u001b[43m        \u001b[49m\u001b[43minplace\u001b[49m\u001b[38;5;241;43m=\u001b[39;49m\u001b[43minplace\u001b[49m\u001b[43m,\u001b[49m\n\u001b[1;32m   5588\u001b[0m \u001b[43m        \u001b[49m\u001b[43merrors\u001b[49m\u001b[38;5;241;43m=\u001b[39;49m\u001b[43merrors\u001b[49m\u001b[43m,\u001b[49m\n\u001b[1;32m   5589\u001b[0m \u001b[43m    \u001b[49m\u001b[43m)\u001b[49m\n",
      "File \u001b[0;32m~/Documents/GitHub/Jupyter-Pandas/.venv/lib/python3.12/site-packages/pandas/core/generic.py:4788\u001b[0m, in \u001b[0;36mNDFrame.drop\u001b[0;34m(self, labels, axis, index, columns, level, inplace, errors)\u001b[0m\n\u001b[1;32m   4786\u001b[0m \u001b[38;5;28;01mfor\u001b[39;00m axis, labels \u001b[38;5;129;01min\u001b[39;00m axes\u001b[38;5;241m.\u001b[39mitems():\n\u001b[1;32m   4787\u001b[0m     \u001b[38;5;28;01mif\u001b[39;00m labels \u001b[38;5;129;01mis\u001b[39;00m \u001b[38;5;129;01mnot\u001b[39;00m \u001b[38;5;28;01mNone\u001b[39;00m:\n\u001b[0;32m-> 4788\u001b[0m         obj \u001b[38;5;241m=\u001b[39m \u001b[43mobj\u001b[49m\u001b[38;5;241;43m.\u001b[39;49m\u001b[43m_drop_axis\u001b[49m\u001b[43m(\u001b[49m\u001b[43mlabels\u001b[49m\u001b[43m,\u001b[49m\u001b[43m \u001b[49m\u001b[43maxis\u001b[49m\u001b[43m,\u001b[49m\u001b[43m \u001b[49m\u001b[43mlevel\u001b[49m\u001b[38;5;241;43m=\u001b[39;49m\u001b[43mlevel\u001b[49m\u001b[43m,\u001b[49m\u001b[43m \u001b[49m\u001b[43merrors\u001b[49m\u001b[38;5;241;43m=\u001b[39;49m\u001b[43merrors\u001b[49m\u001b[43m)\u001b[49m\n\u001b[1;32m   4790\u001b[0m \u001b[38;5;28;01mif\u001b[39;00m inplace:\n\u001b[1;32m   4791\u001b[0m     \u001b[38;5;28mself\u001b[39m\u001b[38;5;241m.\u001b[39m_update_inplace(obj)\n",
      "File \u001b[0;32m~/Documents/GitHub/Jupyter-Pandas/.venv/lib/python3.12/site-packages/pandas/core/generic.py:4830\u001b[0m, in \u001b[0;36mNDFrame._drop_axis\u001b[0;34m(self, labels, axis, level, errors, only_slice)\u001b[0m\n\u001b[1;32m   4828\u001b[0m         new_axis \u001b[38;5;241m=\u001b[39m axis\u001b[38;5;241m.\u001b[39mdrop(labels, level\u001b[38;5;241m=\u001b[39mlevel, errors\u001b[38;5;241m=\u001b[39merrors)\n\u001b[1;32m   4829\u001b[0m     \u001b[38;5;28;01melse\u001b[39;00m:\n\u001b[0;32m-> 4830\u001b[0m         new_axis \u001b[38;5;241m=\u001b[39m \u001b[43maxis\u001b[49m\u001b[38;5;241;43m.\u001b[39;49m\u001b[43mdrop\u001b[49m\u001b[43m(\u001b[49m\u001b[43mlabels\u001b[49m\u001b[43m,\u001b[49m\u001b[43m \u001b[49m\u001b[43merrors\u001b[49m\u001b[38;5;241;43m=\u001b[39;49m\u001b[43merrors\u001b[49m\u001b[43m)\u001b[49m\n\u001b[1;32m   4831\u001b[0m     indexer \u001b[38;5;241m=\u001b[39m axis\u001b[38;5;241m.\u001b[39mget_indexer(new_axis)\n\u001b[1;32m   4833\u001b[0m \u001b[38;5;66;03m# Case for non-unique axis\u001b[39;00m\n\u001b[1;32m   4834\u001b[0m \u001b[38;5;28;01melse\u001b[39;00m:\n",
      "File \u001b[0;32m~/Documents/GitHub/Jupyter-Pandas/.venv/lib/python3.12/site-packages/pandas/core/indexes/base.py:7070\u001b[0m, in \u001b[0;36mIndex.drop\u001b[0;34m(self, labels, errors)\u001b[0m\n\u001b[1;32m   7068\u001b[0m \u001b[38;5;28;01mif\u001b[39;00m mask\u001b[38;5;241m.\u001b[39many():\n\u001b[1;32m   7069\u001b[0m     \u001b[38;5;28;01mif\u001b[39;00m errors \u001b[38;5;241m!=\u001b[39m \u001b[38;5;124m\"\u001b[39m\u001b[38;5;124mignore\u001b[39m\u001b[38;5;124m\"\u001b[39m:\n\u001b[0;32m-> 7070\u001b[0m         \u001b[38;5;28;01mraise\u001b[39;00m \u001b[38;5;167;01mKeyError\u001b[39;00m(\u001b[38;5;124mf\u001b[39m\u001b[38;5;124m\"\u001b[39m\u001b[38;5;132;01m{\u001b[39;00mlabels[mask]\u001b[38;5;241m.\u001b[39mtolist()\u001b[38;5;132;01m}\u001b[39;00m\u001b[38;5;124m not found in axis\u001b[39m\u001b[38;5;124m\"\u001b[39m)\n\u001b[1;32m   7071\u001b[0m     indexer \u001b[38;5;241m=\u001b[39m indexer[\u001b[38;5;241m~\u001b[39mmask]\n\u001b[1;32m   7072\u001b[0m \u001b[38;5;28;01mreturn\u001b[39;00m \u001b[38;5;28mself\u001b[39m\u001b[38;5;241m.\u001b[39mdelete(indexer)\n",
      "\u001b[0;31mKeyError\u001b[0m: \"['transmission', 'engine', 'fuel_type'] not found in axis\""
     ]
    }
   ],
   "source": [
    " \n",
    "import os\n",
    "\n",
    "\n",
    "def analyze_and_plot(dataframe, group_col, save_path):\n",
    "    # Lista per DataFrame filtrati e correlazioni\n",
    "    df_list = []\n",
    "    filtered_corr_list = []\n",
    "    \n",
    "    # Valori unici della colonna\n",
    "    unique_values = dataframe[group_col].unique()\n",
    "    \n",
    "    for value in unique_values:\n",
    "        # Filtra il DataFrame\n",
    "        df_filtered = dataframe[dataframe[group_col] == value]\n",
    "        \n",
    "        if df_filtered.empty:\n",
    "            continue  # Salta se il DataFrame è vuoto\n",
    "        \n",
    "        # Nome del gruppo\n",
    "        group_name = df_filtered[group_col].iloc[0]\n",
    "        \n",
    "        # Rimuovi le colonne non necessarie\n",
    "        df_cleaned = df_filtered.drop(['brand', 'transmission', 'engine', 'fuel_type'], axis=1)\n",
    "        \n",
    "        # Calcola la matrice di correlazione\n",
    "        corr_matrix = df_cleaned.corr()\n",
    "        \n",
    "        # Filtra correlazioni significative\n",
    "        filtered = corr_matrix.where(((corr_matrix > 0.3) | (corr_matrix < -0.3)) & (corr_matrix != 1)).stack()\n",
    "        filtered_corr_list.append((f'{group_col} name: {group_name}\\n', filtered))\n",
    "        \n",
    "        # Crea la directory per salvare le immagini\n",
    "        os.makedirs(save_path, exist_ok=True)\n",
    "        \n",
    "        # Plotta la heatmap\n",
    "        plt.figure(figsize=(10, 8))\n",
    "        sns.heatmap(corr_matrix, annot=True, cmap='coolwarm')\n",
    "        plt.title(f'Heatmap for {group_col}: {group_name}')\n",
    "        \n",
    "        # Salva il grafico\n",
    "        plt.savefig(f'{save_path}/{group_name}_heatmap.png', bbox_inches='tight')\n",
    "        plt.close()  # Chiudi il grafico per evitare conflitti\n",
    "        \n",
    "    return filtered_corr_list\n",
    "\n",
    "# Usa la funzione per ogni gruppo\n",
    "filtered_corr_brands = analyze_and_plot(df, 'brand', './image/brands')\n",
    "filtered_corr_trans = analyze_and_plot(df, 'transmission', './image/trans')\n",
    "filtered_corr_engines = analyze_and_plot(df, 'engine', './image/engines')\n",
    "filtered_corr_fuels = analyze_and_plot(df, 'fuel_type', './image/fuels')\n",
    "\n",
    "# Visualizza i risultati\n",
    "display(filtered_corr_brands)\n",
    "display(filtered_corr_trans)\n",
    "display(filtered_corr_engines)\n",
    "display(filtered_corr_fuels)\n",
    "\n",
    "    \n",
    "    \n",
    "\n",
    "\n",
    "    \n",
    "    \n",
    "    \n",
    "\n",
    "    \n",
    "    \n",
    "    \n",
    "    "
   ]
  }
 ],
 "metadata": {
  "kernelspec": {
   "display_name": ".venv",
   "language": "python",
   "name": "python3"
  },
  "language_info": {
   "codemirror_mode": {
    "name": "ipython",
    "version": 3
   },
   "file_extension": ".py",
   "mimetype": "text/x-python",
   "name": "python",
   "nbconvert_exporter": "python",
   "pygments_lexer": "ipython3",
   "version": "3.12.3"
  }
 },
 "nbformat": 4,
 "nbformat_minor": 2
}
